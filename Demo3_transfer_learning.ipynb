{
 "cells": [
  {
   "attachments": {},
   "cell_type": "markdown",
   "metadata": {},
   "source": [
    "# Train model with M1 dataset"
   ]
  },
  {
   "cell_type": "code",
   "execution_count": 1,
   "metadata": {},
   "outputs": [],
   "source": [
    "from licai.data3d import RatioDataset\n",
    "from licai.model_nets import AttUnet3D_model\n",
    "\n",
    "ds = RatioDataset(data_dir='./Data/MITO/M1_U2OS', n_tform=12, is_tform=True)"
   ]
  },
  {
   "cell_type": "code",
   "execution_count": null,
   "metadata": {
    "scrolled": true
   },
   "outputs": [],
   "source": [
    "exp_name = 'Demo3_M1_MITO_U2OS'\n",
    "is_resume = True\n",
    "model = AttUnet3D_model(exp_name=exp_name, device='cuda', n_channels=2, n_classes=1, pos_weights=1.5)\n",
    "if is_resume:\n",
    "    model.load(type='unet3d')\n",
    "model.train_ds(ds, batch_size=2, nepoch=300, lr=2e-4)"
   ]
  },
  {
   "attachments": {},
   "cell_type": "markdown",
   "metadata": {},
   "source": [
    "# Finetining with M2 Dataset\n",
    "* M2 dataset contains cells in different cell cycles, whose scores are lower than the M1 dataset."
   ]
  },
  {
   "cell_type": "code",
   "execution_count": 2,
   "metadata": {},
   "outputs": [],
   "source": [
    "ds_M2 = RatioDataset(data_dir='./Data/MITO/M2_U2OS', n_tform=12, is_tform=True)"
   ]
  },
  {
   "cell_type": "code",
   "execution_count": null,
   "metadata": {},
   "outputs": [],
   "source": [
    "exp_name = 'Demo3_M2_MITO_U2OS_transfer_learning'\n",
    "model = AttUnet3D_model(exp_name=exp_name, device='cuda', n_channels=2, n_classes=1, pos_weights=1.5)\n",
    "model.load(model_path = './exp/Demo3_M1_MITO_U2OS/bestloss.pth', type='unet3d')\n",
    "model.train_ds(ds_M2, batch_size=2, nepoch=300, lr=2e-5)"
   ]
  }
 ],
 "metadata": {
  "kernelspec": {
   "display_name": "Python 3 (ipykernel)",
   "language": "python",
   "name": "python3"
  },
  "language_info": {
   "codemirror_mode": {
    "name": "ipython",
    "version": 3
   },
   "file_extension": ".py",
   "mimetype": "text/x-python",
   "name": "python",
   "nbconvert_exporter": "python",
   "pygments_lexer": "ipython3",
   "version": "3.8.10"
  },
  "vscode": {
   "interpreter": {
    "hash": "9028688467fa4a3aad7d9335dc53b72b5d006830e485718c084b471f9dc9d7ba"
   }
  }
 },
 "nbformat": 4,
 "nbformat_minor": 2
}

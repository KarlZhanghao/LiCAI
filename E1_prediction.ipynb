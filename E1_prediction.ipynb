{
 "cells": [
  {
   "cell_type": "code",
   "execution_count": 2,
   "metadata": {},
   "outputs": [],
   "source": [
    "pred_dir = './Data/prediction/'\n",
    "\n",
    "from licai.eval import predfolder_ratio3d_binary\n",
    "from licai.eval import predfolder_int3d_multi"
   ]
  },
  {
   "cell_type": "markdown",
   "metadata": {},
   "source": [
    "# Pred Golgi"
   ]
  },
  {
   "cell_type": "code",
   "execution_count": null,
   "metadata": {},
   "outputs": [],
   "source": [
    "#\n",
    "model = './Models/GOLGI3Dnet.pth'\n",
    "save_name = 'pred_GOLGIm'\n",
    "##########\n",
    "nclasses = 1\n",
    "fluoimg = 'fluoa.tif'\n",
    "ratioimg = 'ratio.tif'\n",
    "issave = True\n",
    "# inputs\n",
    "model_info = {\"model_file\":model, \"nclasses\":nclasses, \"fluoimg\":fluoimg, 'ratioimg':ratioimg, \"maskimg\":fluoimg}\n",
    "save_info = {'issave':issave, 'save_name':save_name}\n",
    "#\n",
    "score = predfolder_ratio3d_binary(pred_dir, model_info, save_info)"
   ]
  },
  {
   "cell_type": "markdown",
   "metadata": {},
   "source": [
    "# Pred LD"
   ]
  },
  {
   "cell_type": "code",
   "execution_count": 3,
   "metadata": {},
   "outputs": [
    {
     "name": "stderr",
     "output_type": "stream",
     "text": [
      "                                                                           \r"
     ]
    }
   ],
   "source": [
    "#\n",
    "model = './Models/LD3Dnet.pth'\n",
    "save_name = 'pred_LDm'\n",
    "##########\n",
    "nclasses = 1\n",
    "fluoimg = 'fluoa.tif'\n",
    "ratioimg = 'ratio.tif'\n",
    "issave = True\n",
    "# inputs\n",
    "model_info = {\"model_file\":model, \"nclasses\":nclasses, \"fluoimg\":fluoimg, 'ratioimg':ratioimg, \"maskimg\":fluoimg}\n",
    "save_info = {'issave':issave, 'save_name':save_name}\n",
    "#\n",
    "ldscore = predfolder_ratio3d_binary(pred_dir, model_info, save_info)"
   ]
  },
  {
   "cell_type": "markdown",
   "metadata": {},
   "source": [
    "# Pred Mito"
   ]
  },
  {
   "cell_type": "code",
   "execution_count": 4,
   "metadata": {},
   "outputs": [
    {
     "name": "stderr",
     "output_type": "stream",
     "text": [
      "                                                                           \r"
     ]
    }
   ],
   "source": [
    "#\n",
    "model = './Models/MITO3Dnet.pth'\n",
    "save_name = 'pred_MITOm'\n",
    "##########\n",
    "nclasses = 1\n",
    "fluoimg = 'fluoa.tif'\n",
    "ratioimg = 'ratio.tif'\n",
    "issave = True\n",
    "# inputs\n",
    "model_info = {\"model_file\":model, \"nclasses\":nclasses, \"fluoimg\":fluoimg, 'ratioimg':ratioimg, \"maskimg\":fluoimg}\n",
    "save_info = {'issave':issave, 'save_name':save_name}\n",
    "#\n",
    "score = predfolder_ratio3d_binary(pred_dir, model_info, save_info)"
   ]
  },
  {
   "cell_type": "markdown",
   "metadata": {},
   "source": [
    "# Pred LYSO"
   ]
  },
  {
   "cell_type": "code",
   "execution_count": 5,
   "metadata": {
    "scrolled": true
   },
   "outputs": [
    {
     "name": "stderr",
     "output_type": "stream",
     "text": [
      "                                                                           \r"
     ]
    }
   ],
   "source": [
    "#\n",
    "model = './Models/LYSO3Dnet.pth'\n",
    "save_name = 'pred_LYSOm'\n",
    "##########\n",
    "nclasses = 1\n",
    "fluoimg = 'fluoa.tif'\n",
    "ratioimg = 'ratio.tif'\n",
    "issave = True\n",
    "# inputs\n",
    "model_info = {\"model_file\":model, \"nclasses\":nclasses, \"fluoimg\":fluoimg, 'ratioimg':ratioimg, \"maskimg\":fluoimg}\n",
    "save_info = {'issave':issave, 'save_name':save_name}\n",
    "#\n",
    "score = predfolder_ratio3d_binary(pred_dir, model_info, save_info)"
   ]
  },
  {
   "cell_type": "markdown",
   "metadata": {},
   "source": [
    "# Pred ER"
   ]
  },
  {
   "cell_type": "code",
   "execution_count": 6,
   "metadata": {},
   "outputs": [
    {
     "name": "stderr",
     "output_type": "stream",
     "text": [
      "                                                                           \r"
     ]
    }
   ],
   "source": [
    "#\n",
    "model = './Models/ER3Dnet.pth'\n",
    "save_name = 'pred_ERm'\n",
    "##########\n",
    "nclasses = 1\n",
    "fluoimg = 'fluoa.tif'\n",
    "ratioimg = 'ratio.tif'\n",
    "issave = True\n",
    "# inputs\n",
    "model_info = {\"model_file\":model, \"nclasses\":nclasses, \"fluoimg\":fluoimg, 'ratioimg':ratioimg, \"maskimg\":fluoimg}\n",
    "save_info = {'issave':issave, 'save_name':save_name}\n",
    "#\n",
    "score = predfolder_ratio3d_binary(pred_dir, model_info, save_info)"
   ]
  },
  {
   "cell_type": "markdown",
   "metadata": {},
   "source": [
    "# Pred NMNRnet\n",
    "- pred_NMNRm_0.tif: background\n",
    "- pred_NMNRm_1.tif: ER\n",
    "- pred_NMNRm_2.tif: NM\n",
    "- pred_NMNRm_3.tif: NR"
   ]
  },
  {
   "cell_type": "code",
   "execution_count": 7,
   "metadata": {},
   "outputs": [
    {
     "name": "stderr",
     "output_type": "stream",
     "text": [
      "                                                                           \r"
     ]
    }
   ],
   "source": [
    "#\n",
    "model = './Models/NMNR3Dnet.pth'\n",
    "save_name = 'pred_NMNRm'\n",
    "##########\n",
    "nclasses = 4\n",
    "fluoimg = 'pred_ERm.tif'\n",
    "issave = True\n",
    "# inputs\n",
    "model_info = {\"model_file\":model, \"nclasses\":nclasses, \"fluoimg\":fluoimg, \"maskimg\":fluoimg}\n",
    "save_info = {'issave':issave, 'save_name':save_name}\n",
    "#\n",
    "\n",
    "score = predfolder_int3d_multi(pred_dir, model_info, save_info)"
   ]
  },
  {
   "cell_type": "markdown",
   "metadata": {},
   "source": [
    "# Pred PMFPnet\n",
    "- pred_PMFPm_0.tif: background\n",
    "- pred_PMFPm_1.tif: PM\n",
    "- pred_PMFPm_2.tif: FP"
   ]
  },
  {
   "cell_type": "code",
   "execution_count": 8,
   "metadata": {},
   "outputs": [
    {
     "name": "stderr",
     "output_type": "stream",
     "text": [
      "                                                                           \r"
     ]
    }
   ],
   "source": [
    "#\n",
    "model = './Models/PMFP3Dnet2.pth'\n",
    "save_name = 'pred_PMFPm'\n",
    "##########\n",
    "nclasses = 3\n",
    "fluoimg = 'fluofg.tif'\n",
    "issave = True\n",
    "# inputs\n",
    "model_info = {\"model_file\":model, \"nclasses\":nclasses, \"fluoimg\":fluoimg, \"maskimg\":fluoimg}\n",
    "save_info = {'issave':issave, 'save_name':save_name}\n",
    "#\n",
    "score = predfolder_int3d_multi(pred_dir, model_info, save_info)"
   ]
  },
  {
   "cell_type": "markdown",
   "metadata": {},
   "source": [
    "# Pred PERO"
   ]
  },
  {
   "cell_type": "code",
   "execution_count": 9,
   "metadata": {},
   "outputs": [
    {
     "name": "stderr",
     "output_type": "stream",
     "text": [
      "                                                                           \r"
     ]
    }
   ],
   "source": [
    "#\n",
    "model = './Models/PERO3Dnet.pth'\n",
    "save_name = 'pred_PEROm'\n",
    "##########\n",
    "nclasses = 1\n",
    "fluoimg = 'fluoa.tif'\n",
    "ratioimg = 'ratio.tif'\n",
    "issave = True\n",
    "# inputs\n",
    "model_info = {\"model_file\":model, \"nclasses\":nclasses, \"fluoimg\":fluoimg, 'ratioimg':ratioimg, \"maskimg\":fluoimg}\n",
    "save_info = {'issave':issave, 'save_name':save_name}\n",
    "#\n",
    "score = predfolder_ratio3d_binary(pred_dir, model_info, save_info)"
   ]
  },
  {
   "cell_type": "markdown",
   "metadata": {},
   "source": [
    "# Pred EE"
   ]
  },
  {
   "cell_type": "code",
   "execution_count": 10,
   "metadata": {},
   "outputs": [
    {
     "name": "stderr",
     "output_type": "stream",
     "text": [
      "                                                                           \r"
     ]
    }
   ],
   "source": [
    "#\n",
    "model = './Models/EE3Dnet.pth'\n",
    "save_name = 'pred_EEm'\n",
    "##########\n",
    "nclasses = 1\n",
    "fluoimg = 'fluoa.tif'\n",
    "ratioimg = 'ratio.tif'\n",
    "issave = True\n",
    "# inputs\n",
    "model_info = {\"model_file\":model, \"nclasses\":nclasses, \"fluoimg\":fluoimg, 'ratioimg':ratioimg, \"maskimg\":fluoimg}\n",
    "save_info = {'issave':issave, 'save_name':save_name}\n",
    "#\n",
    "score = predfolder_ratio3d_binary(pred_dir, model_info, save_info)"
   ]
  },
  {
   "cell_type": "markdown",
   "metadata": {},
   "source": [
    "# Pred LE"
   ]
  },
  {
   "cell_type": "code",
   "execution_count": 11,
   "metadata": {},
   "outputs": [
    {
     "name": "stderr",
     "output_type": "stream",
     "text": [
      "                                                                           \r"
     ]
    }
   ],
   "source": [
    "#\n",
    "model = './Models/LE3Dnet.pth'\n",
    "save_name = 'pred_LEm'\n",
    "##########\n",
    "nclasses = 1\n",
    "fluoimg = 'fluoa.tif'\n",
    "ratioimg = 'ratio.tif'\n",
    "issave = True\n",
    "# inputs\n",
    "model_info = {\"model_file\":model, \"nclasses\":nclasses, \"fluoimg\":fluoimg, 'ratioimg':ratioimg, \"maskimg\":fluoimg}\n",
    "save_info = {'issave':issave, 'save_name':save_name}\n",
    "#\n",
    "score = predfolder_ratio3d_binary(pred_dir, model_info, save_info)"
   ]
  },
  {
   "cell_type": "markdown",
   "metadata": {},
   "source": [
    "# Pred VOL\n",
    "- pred_VOLm_0.tif: nucleus\n",
    "- pred_VOLm_1.tif: cytosol\n",
    "- pred_VOLm_2.tif: ECS"
   ]
  },
  {
   "cell_type": "code",
   "execution_count": 2,
   "metadata": {
    "scrolled": true
   },
   "outputs": [
    {
     "name": "stderr",
     "output_type": "stream",
     "text": [
      "                                                                       \r"
     ]
    }
   ],
   "source": [
    "#\n",
    "model = './Models/VOL3Dnet2.pth'\n",
    "save_name = 'pred_VOLm'\n",
    "##########\n",
    "nclasses = 3\n",
    "fluoimg = 'fluofg.tif'\n",
    "issave = True\n",
    "# inputs\n",
    "model_info = {\"model_file\":model, \"nclasses\":nclasses, \"fluoimg\":fluoimg, \"maskimg\":fluoimg}\n",
    "save_info = {'issave':issave, 'save_name':save_name}\n",
    "#\n",
    "score = predfolder_int3d_multi(pred_dir, model_info, save_info)"
   ]
  }
 ],
 "metadata": {
  "kernelspec": {
   "display_name": "Python 3",
   "language": "python",
   "name": "python3"
  },
  "language_info": {
   "codemirror_mode": {
    "name": "ipython",
    "version": 3
   },
   "file_extension": ".py",
   "mimetype": "text/x-python",
   "name": "python",
   "nbconvert_exporter": "python",
   "pygments_lexer": "ipython3",
   "version": "3.8.10"
  }
 },
 "nbformat": 4,
 "nbformat_minor": 4
}
